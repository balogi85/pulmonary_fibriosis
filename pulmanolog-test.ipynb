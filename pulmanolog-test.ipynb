{
 "cells": [
  {
   "cell_type": "code",
   "execution_count": 1,
   "metadata": {
    "_cell_guid": "79c7e3d0-c299-4dcb-8224-4455121ee9b0",
    "_uuid": "d629ff2d2480ee46fbb7e2d37f6b5fab8052498a",
    "execution": {
     "iopub.execute_input": "2020-10-06T07:14:48.470747Z",
     "iopub.status.busy": "2020-10-06T07:14:48.469946Z",
     "iopub.status.idle": "2020-10-06T07:14:55.030691Z",
     "shell.execute_reply": "2020-10-06T07:14:55.029467Z"
    },
    "papermill": {
     "duration": 6.589231,
     "end_time": "2020-10-06T07:14:55.030838",
     "exception": false,
     "start_time": "2020-10-06T07:14:48.441607",
     "status": "completed"
    },
    "tags": []
   },
   "outputs": [],
   "source": [
    "import os\n",
    "import cv2\n",
    "import pydicom\n",
    "import pandas as pd\n",
    "import numpy as np\n",
    "import tensorflow as tf\n",
    "import matplotlib.pyplot as plt\n",
    "from tensorflow.keras.utils import Sequence\n",
    "from tensorflow.keras.layers import Dense, Flatten, Dropout, Activation,Input, BatchNormalization, GlobalAveragePooling2D, Add, Conv2D,LeakyReLU, ReLU, Concatenate, GaussianNoise,MaxPooling2D\n",
    "from tensorflow.keras import Model\n",
    "from tensorflow.keras.optimizers import Nadam, Adam, SGD, Adadelta, Adamax\n",
    "from tensorflow.keras.applications import VGG19\n",
    "from sklearn.model_selection import train_test_split"
   ]
  },
  {
   "cell_type": "code",
   "execution_count": 2,
   "metadata": {
    "execution": {
     "iopub.execute_input": "2020-10-06T07:14:55.080474Z",
     "iopub.status.busy": "2020-10-06T07:14:55.078334Z",
     "iopub.status.idle": "2020-10-06T07:14:55.081115Z",
     "shell.execute_reply": "2020-10-06T07:14:55.081585Z"
    },
    "papermill": {
     "duration": 0.02933,
     "end_time": "2020-10-06T07:14:55.081700",
     "exception": false,
     "start_time": "2020-10-06T07:14:55.052370",
     "status": "completed"
    },
    "tags": []
   },
   "outputs": [],
   "source": [
    "path = '../input/osic-pulmonary-fibrosis-progression/'"
   ]
  },
  {
   "cell_type": "code",
   "execution_count": 3,
   "metadata": {
    "execution": {
     "iopub.execute_input": "2020-10-06T07:14:55.126178Z",
     "iopub.status.busy": "2020-10-06T07:14:55.125212Z",
     "iopub.status.idle": "2020-10-06T07:14:55.131114Z",
     "shell.execute_reply": "2020-10-06T07:14:55.130602Z"
    },
    "papermill": {
     "duration": 0.029821,
     "end_time": "2020-10-06T07:14:55.131210",
     "exception": false,
     "start_time": "2020-10-06T07:14:55.101389",
     "status": "completed"
    },
    "tags": []
   },
   "outputs": [
    {
     "name": "stdout",
     "output_type": "stream",
     "text": [
      "['train.csv', 'train', 'test.csv', 'test', 'sample_submission.csv']\n"
     ]
    }
   ],
   "source": [
    "items = os.listdir(path)\n",
    "print(items)"
   ]
  },
  {
   "cell_type": "code",
   "execution_count": 4,
   "metadata": {
    "execution": {
     "iopub.execute_input": "2020-10-06T07:14:55.180840Z",
     "iopub.status.busy": "2020-10-06T07:14:55.180082Z",
     "iopub.status.idle": "2020-10-06T07:14:55.194321Z",
     "shell.execute_reply": "2020-10-06T07:14:55.193665Z"
    },
    "papermill": {
     "duration": 0.041915,
     "end_time": "2020-10-06T07:14:55.194455",
     "exception": false,
     "start_time": "2020-10-06T07:14:55.152540",
     "status": "completed"
    },
    "tags": []
   },
   "outputs": [],
   "source": [
    "train_df = pd.read_csv(path + 'train.csv')"
   ]
  },
  {
   "cell_type": "code",
   "execution_count": 5,
   "metadata": {
    "execution": {
     "iopub.execute_input": "2020-10-06T07:14:55.251680Z",
     "iopub.status.busy": "2020-10-06T07:14:55.250979Z",
     "iopub.status.idle": "2020-10-06T07:14:55.264595Z",
     "shell.execute_reply": "2020-10-06T07:14:55.263944Z"
    },
    "papermill": {
     "duration": 0.048888,
     "end_time": "2020-10-06T07:14:55.264705",
     "exception": false,
     "start_time": "2020-10-06T07:14:55.215817",
     "status": "completed"
    },
    "tags": []
   },
   "outputs": [
    {
     "data": {
      "text/html": [
       "<div>\n",
       "<style scoped>\n",
       "    .dataframe tbody tr th:only-of-type {\n",
       "        vertical-align: middle;\n",
       "    }\n",
       "\n",
       "    .dataframe tbody tr th {\n",
       "        vertical-align: top;\n",
       "    }\n",
       "\n",
       "    .dataframe thead th {\n",
       "        text-align: right;\n",
       "    }\n",
       "</style>\n",
       "<table border=\"1\" class=\"dataframe\">\n",
       "  <thead>\n",
       "    <tr style=\"text-align: right;\">\n",
       "      <th></th>\n",
       "      <th>Patient</th>\n",
       "      <th>Weeks</th>\n",
       "      <th>FVC</th>\n",
       "      <th>Percent</th>\n",
       "      <th>Age</th>\n",
       "      <th>Sex</th>\n",
       "      <th>SmokingStatus</th>\n",
       "    </tr>\n",
       "  </thead>\n",
       "  <tbody>\n",
       "    <tr>\n",
       "      <th>0</th>\n",
       "      <td>ID00007637202177411956430</td>\n",
       "      <td>-4</td>\n",
       "      <td>2315</td>\n",
       "      <td>58.253649</td>\n",
       "      <td>79</td>\n",
       "      <td>Male</td>\n",
       "      <td>Ex-smoker</td>\n",
       "    </tr>\n",
       "    <tr>\n",
       "      <th>1</th>\n",
       "      <td>ID00007637202177411956430</td>\n",
       "      <td>5</td>\n",
       "      <td>2214</td>\n",
       "      <td>55.712129</td>\n",
       "      <td>79</td>\n",
       "      <td>Male</td>\n",
       "      <td>Ex-smoker</td>\n",
       "    </tr>\n",
       "    <tr>\n",
       "      <th>2</th>\n",
       "      <td>ID00007637202177411956430</td>\n",
       "      <td>7</td>\n",
       "      <td>2061</td>\n",
       "      <td>51.862104</td>\n",
       "      <td>79</td>\n",
       "      <td>Male</td>\n",
       "      <td>Ex-smoker</td>\n",
       "    </tr>\n",
       "    <tr>\n",
       "      <th>3</th>\n",
       "      <td>ID00007637202177411956430</td>\n",
       "      <td>9</td>\n",
       "      <td>2144</td>\n",
       "      <td>53.950679</td>\n",
       "      <td>79</td>\n",
       "      <td>Male</td>\n",
       "      <td>Ex-smoker</td>\n",
       "    </tr>\n",
       "    <tr>\n",
       "      <th>4</th>\n",
       "      <td>ID00007637202177411956430</td>\n",
       "      <td>11</td>\n",
       "      <td>2069</td>\n",
       "      <td>52.063412</td>\n",
       "      <td>79</td>\n",
       "      <td>Male</td>\n",
       "      <td>Ex-smoker</td>\n",
       "    </tr>\n",
       "  </tbody>\n",
       "</table>\n",
       "</div>"
      ],
      "text/plain": [
       "                     Patient  Weeks   FVC    Percent  Age   Sex SmokingStatus\n",
       "0  ID00007637202177411956430     -4  2315  58.253649   79  Male     Ex-smoker\n",
       "1  ID00007637202177411956430      5  2214  55.712129   79  Male     Ex-smoker\n",
       "2  ID00007637202177411956430      7  2061  51.862104   79  Male     Ex-smoker\n",
       "3  ID00007637202177411956430      9  2144  53.950679   79  Male     Ex-smoker\n",
       "4  ID00007637202177411956430     11  2069  52.063412   79  Male     Ex-smoker"
      ]
     },
     "execution_count": 5,
     "metadata": {},
     "output_type": "execute_result"
    }
   ],
   "source": [
    "train_df.head()"
   ]
  },
  {
   "cell_type": "code",
   "execution_count": 6,
   "metadata": {
    "execution": {
     "iopub.execute_input": "2020-10-06T07:14:55.320353Z",
     "iopub.status.busy": "2020-10-06T07:14:55.319393Z",
     "iopub.status.idle": "2020-10-06T07:14:55.324235Z",
     "shell.execute_reply": "2020-10-06T07:14:55.323709Z"
    },
    "papermill": {
     "duration": 0.035489,
     "end_time": "2020-10-06T07:14:55.324328",
     "exception": false,
     "start_time": "2020-10-06T07:14:55.288839",
     "status": "completed"
    },
    "tags": []
   },
   "outputs": [
    {
     "data": {
      "text/plain": [
       "array(['Ex-smoker', 'Never smoked', 'Currently smokes'], dtype=object)"
      ]
     },
     "execution_count": 6,
     "metadata": {},
     "output_type": "execute_result"
    }
   ],
   "source": [
    "train_df.SmokingStatus.unique()"
   ]
  },
  {
   "cell_type": "code",
   "execution_count": 7,
   "metadata": {
    "execution": {
     "iopub.execute_input": "2020-10-06T07:14:55.380591Z",
     "iopub.status.busy": "2020-10-06T07:14:55.379887Z",
     "iopub.status.idle": "2020-10-06T07:14:55.383396Z",
     "shell.execute_reply": "2020-10-06T07:14:55.382875Z"
    },
    "papermill": {
     "duration": 0.035708,
     "end_time": "2020-10-06T07:14:55.383516",
     "exception": false,
     "start_time": "2020-10-06T07:14:55.347808",
     "status": "completed"
    },
    "tags": []
   },
   "outputs": [],
   "source": [
    "def changing_columns(df):\n",
    "    age_sex_smoke = [(df.Age.values[0]-30) / 30]\n",
    "    \n",
    "    if df['Sex'].values[0] == 'Male':\n",
    "        age_sex_smoke.append(0)\n",
    "    else:\n",
    "        age_sex_smoke.append(1)\n",
    "    \n",
    "    if df['SmokingStatus'].values[0]== 'Never smoked':\n",
    "        age_sex_smoke.extend([0,0])\n",
    "    elif df['SmokingStatus'].values[0]== 'Ex-smoker':\n",
    "        age_sex_smoke.extend([1,1])\n",
    "    elif df['SmokingStatus'].values[0]== 'Currently smokes':\n",
    "        age_sex_smoke.extend([0,1])\n",
    "    else :\n",
    "        age_sex_smoke.extend([1,0])\n",
    "    \n",
    "    return np.array(age_sex_smoke)   "
   ]
  },
  {
   "cell_type": "code",
   "execution_count": 8,
   "metadata": {
    "execution": {
     "iopub.execute_input": "2020-10-06T07:14:55.439635Z",
     "iopub.status.busy": "2020-10-06T07:14:55.438284Z",
     "iopub.status.idle": "2020-10-06T07:14:55.443638Z",
     "shell.execute_reply": "2020-10-06T07:14:55.442991Z"
    },
    "papermill": {
     "duration": 0.036459,
     "end_time": "2020-10-06T07:14:55.443763",
     "exception": false,
     "start_time": "2020-10-06T07:14:55.407304",
     "status": "completed"
    },
    "tags": []
   },
   "outputs": [
    {
     "data": {
      "text/plain": [
       "array([1.63333333, 0.        , 1.        , 1.        ])"
      ]
     },
     "execution_count": 8,
     "metadata": {},
     "output_type": "execute_result"
    }
   ],
   "source": [
    "changing_columns(train_df)"
   ]
  },
  {
   "cell_type": "code",
   "execution_count": 9,
   "metadata": {
    "execution": {
     "iopub.execute_input": "2020-10-06T07:14:55.505659Z",
     "iopub.status.busy": "2020-10-06T07:14:55.504733Z",
     "iopub.status.idle": "2020-10-06T07:14:55.794380Z",
     "shell.execute_reply": "2020-10-06T07:14:55.794916Z"
    },
    "papermill": {
     "duration": 0.324902,
     "end_time": "2020-10-06T07:14:55.795051",
     "exception": false,
     "start_time": "2020-10-06T07:14:55.470149",
     "status": "completed"
    },
    "tags": []
   },
   "outputs": [
    {
     "name": "stderr",
     "output_type": "stream",
     "text": [
      "/opt/conda/lib/python3.7/site-packages/ipykernel_launcher.py:14: FutureWarning: `rcond` parameter will change to the default of machine precision times ``max(M, N)`` where M and N are the input matrix dimensions.\n",
      "To use the future default and silence this warning we advise to pass `rcond=None`, to keep using the old, explicitly pass `rcond=-1`.\n",
      "  \n"
     ]
    }
   ],
   "source": [
    "A = {}\n",
    "T = {}\n",
    "P = []\n",
    "\n",
    "for i,p in enumerate(train_df['Patient'].unique()):\n",
    "    sub = train_df.loc[train_df.Patient == p, :]\n",
    "   # print(sub)\n",
    "    fvc = sub['FVC'].values\n",
    "   # print(fvc)\n",
    "    weeks = sub['Weeks'].values\n",
    "   # print(weeks)\n",
    "    ver_stack= np.vstack([weeks,np.ones(len(weeks))]).T\n",
    "   # print(ver_stack)\n",
    "    a,b = np.linalg.lstsq(ver_stack, fvc)[0]\n",
    "   # print(a)\n",
    "   # print(b)\n",
    "    \n",
    "    A[p] = a\n",
    "    T[p] = changing_columns(sub)\n",
    "    P.append(p)"
   ]
  },
  {
   "cell_type": "code",
   "execution_count": 10,
   "metadata": {
    "execution": {
     "iopub.execute_input": "2020-10-06T07:14:55.856133Z",
     "iopub.status.busy": "2020-10-06T07:14:55.854405Z",
     "iopub.status.idle": "2020-10-06T07:14:55.856967Z",
     "shell.execute_reply": "2020-10-06T07:14:55.857456Z"
    },
    "papermill": {
     "duration": 0.03618,
     "end_time": "2020-10-06T07:14:55.857574",
     "exception": false,
     "start_time": "2020-10-06T07:14:55.821394",
     "status": "completed"
    },
    "tags": []
   },
   "outputs": [],
   "source": [
    "BATCH_S = 32\n",
    "shape = 299"
   ]
  },
  {
   "cell_type": "code",
   "execution_count": 11,
   "metadata": {
    "execution": {
     "iopub.execute_input": "2020-10-06T07:14:55.911021Z",
     "iopub.status.busy": "2020-10-06T07:14:55.910340Z",
     "iopub.status.idle": "2020-10-06T07:14:55.914339Z",
     "shell.execute_reply": "2020-10-06T07:14:55.913873Z"
    },
    "papermill": {
     "duration": 0.032768,
     "end_time": "2020-10-06T07:14:55.914455",
     "exception": false,
     "start_time": "2020-10-06T07:14:55.881687",
     "status": "completed"
    },
    "tags": []
   },
   "outputs": [],
   "source": [
    "def get_im_from_dicom(path):\n",
    "    d = pydicom.dcmread(path)\n",
    "    return cv2.resize((d.pixel_array - d.RescaleIntercept) / (d.RescaleSlope * 1000), (512, 512))"
   ]
  },
  {
   "cell_type": "code",
   "execution_count": 12,
   "metadata": {
    "execution": {
     "iopub.execute_input": "2020-10-06T07:14:55.981005Z",
     "iopub.status.busy": "2020-10-06T07:14:55.975512Z",
     "iopub.status.idle": "2020-10-06T07:14:55.984006Z",
     "shell.execute_reply": "2020-10-06T07:14:55.983450Z"
    },
    "papermill": {
     "duration": 0.04535,
     "end_time": "2020-10-06T07:14:55.984107",
     "exception": false,
     "start_time": "2020-10-06T07:14:55.938757",
     "status": "completed"
    },
    "tags": []
   },
   "outputs": [],
   "source": [
    "class IGenerator(Sequence):\n",
    "    BAD_ID = ['ID00011637202177653955184', 'ID00052637202186188008618']\n",
    "    def __init__(self, keys, a, tab):\n",
    "        self.keys = [k for k in keys if k not in self.BAD_ID]\n",
    "        self.a = a\n",
    "        self.tab = tab\n",
    "        self.batch_size = BATCH_S\n",
    "        \n",
    "        self.train_data = {}\n",
    "        for p in train_df.Patient.unique():\n",
    "            ldir = os.listdir(f'../input/osic-pulmonary-fibrosis-progression/train/{p}/')\n",
    "            numb = [float(i[:-4]) for i in ldir]\n",
    "            self.train_data[p] = [i for i in os.listdir(f'../input/osic-pulmonary-fibrosis-progression/train/{p}/') if int(i[:-4]) / len(ldir) < 0.8 and int(i[:-4]) / len(ldir) > 0.15]\n",
    "    \n",
    "    def __len__(self):\n",
    "        return 1000\n",
    "    def __getitem__(self, idx):\n",
    "        x = []\n",
    "        a, tab = [], [] \n",
    "        keys = np.random.choice(self.keys, size = self.batch_size)\n",
    "        for k in keys:\n",
    "            try:\n",
    "                i = np.random.choice(self.train_data[k], size=1)[0]\n",
    "                img = get_im_from_dicom(f'../input/osic-pulmonary-fibrosis-progression/train/{k}/{i}')\n",
    "                mask = cv2.resize(cv2.imread(f'../input/osic-pulmonary-fibrosis-progression-lungs-mask/mask_clear/mask_clear/{k}/{i[:-4]}.jpg', 0), (512, 512))> 0\n",
    "                img[~mask] = 0\n",
    "                x.append(img)\n",
    "                a.append(self.a[k])\n",
    "                tab.append(self.tab[k])\n",
    "            except:\n",
    "                print('ooooo, we have a problem')\n",
    "                print(k)\n",
    "                print(i)\n",
    "       \n",
    "        x,a,tab = np.array(x), np.array(a), np.array(tab)\n",
    "        x = np.expand_dims(x, axis=-1)\n",
    "        return [x, tab] , a\n",
    "    "
   ]
  },
  {
   "cell_type": "markdown",
   "metadata": {
    "papermill": {
     "duration": 0.024441,
     "end_time": "2020-10-06T07:14:56.033827",
     "exception": false,
     "start_time": "2020-10-06T07:14:56.009386",
     "status": "completed"
    },
    "tags": []
   },
   "source": [
    "The Model"
   ]
  },
  {
   "cell_type": "code",
   "execution_count": 13,
   "metadata": {
    "execution": {
     "iopub.execute_input": "2020-10-06T07:14:56.099922Z",
     "iopub.status.busy": "2020-10-06T07:14:56.099149Z",
     "iopub.status.idle": "2020-10-06T07:14:56.103243Z",
     "shell.execute_reply": "2020-10-06T07:14:56.102761Z"
    },
    "papermill": {
     "duration": 0.037952,
     "end_time": "2020-10-06T07:14:56.103340",
     "exception": false,
     "start_time": "2020-10-06T07:14:56.065388",
     "status": "completed"
    },
    "tags": []
   },
   "outputs": [],
   "source": [
    "def the_model(input_shape=(shape,shape,1)):\n",
    "   \n",
    "    vgg = VGG19(include_top = False, weights= None, input_shape= input_shape)\n",
    "   \n",
    "    inp_1 = Input(shape = input_shape)\n",
    "    \n",
    "    half_1 = vgg(inp_1)\n",
    "    half_1 = GlobalAveragePooling2D()(half_1)\n",
    "    \n",
    "    inp_2 = Input(shape=(4,))\n",
    "    half_2 = GaussianNoise(0.3)(inp_2)\n",
    "    \n",
    "    whole = Concatenate()([half_1, half_2])\n",
    "    whole = Dense(100, activation='relu')(whole)\n",
    "    whole = Dense(100, activation='relu')(whole)\n",
    "    whole = Dropout(0.2)(whole)\n",
    "    whole = Dense(10, activation='relu')(whole)\n",
    "    whole = Dropout(0.2)(whole)\n",
    "    whole = Dense(1)(whole)\n",
    "    \n",
    "    return Model([inp_1,inp_2], whole)"
   ]
  },
  {
   "cell_type": "code",
   "execution_count": 14,
   "metadata": {
    "execution": {
     "iopub.execute_input": "2020-10-06T07:14:56.159339Z",
     "iopub.status.busy": "2020-10-06T07:14:56.158729Z",
     "iopub.status.idle": "2020-10-06T07:14:59.262895Z",
     "shell.execute_reply": "2020-10-06T07:14:59.262077Z"
    },
    "papermill": {
     "duration": 3.135927,
     "end_time": "2020-10-06T07:14:59.263011",
     "exception": false,
     "start_time": "2020-10-06T07:14:56.127084",
     "status": "completed"
    },
    "tags": []
   },
   "outputs": [],
   "source": [
    "model = the_model()"
   ]
  },
  {
   "cell_type": "code",
   "execution_count": 15,
   "metadata": {
    "execution": {
     "iopub.execute_input": "2020-10-06T07:14:59.317765Z",
     "iopub.status.busy": "2020-10-06T07:14:59.316993Z",
     "iopub.status.idle": "2020-10-06T07:14:59.320875Z",
     "shell.execute_reply": "2020-10-06T07:14:59.321346Z"
    },
    "papermill": {
     "duration": 0.034082,
     "end_time": "2020-10-06T07:14:59.321488",
     "exception": false,
     "start_time": "2020-10-06T07:14:59.287406",
     "status": "completed"
    },
    "tags": []
   },
   "outputs": [],
   "source": [
    "train_part, valid_part = train_test_split(P, shuffle= True, train_size= 0.9)"
   ]
  },
  {
   "cell_type": "code",
   "execution_count": 16,
   "metadata": {
    "execution": {
     "iopub.execute_input": "2020-10-06T07:14:59.376357Z",
     "iopub.status.busy": "2020-10-06T07:14:59.375469Z",
     "iopub.status.idle": "2020-10-06T07:15:00.130539Z",
     "shell.execute_reply": "2020-10-06T07:15:00.129308Z"
    },
    "papermill": {
     "duration": 0.784491,
     "end_time": "2020-10-06T07:15:00.130699",
     "exception": false,
     "start_time": "2020-10-06T07:14:59.346208",
     "status": "completed"
    },
    "tags": []
   },
   "outputs": [],
   "source": [
    "train_generator = IGenerator(keys= train_part, a=A, tab=T)\n",
    "valid_generator = IGenerator(keys= valid_part, a=A, tab=T)"
   ]
  },
  {
   "cell_type": "code",
   "execution_count": 17,
   "metadata": {
    "execution": {
     "iopub.execute_input": "2020-10-06T07:15:00.190550Z",
     "iopub.status.busy": "2020-10-06T07:15:00.188634Z",
     "iopub.status.idle": "2020-10-06T07:15:00.191223Z",
     "shell.execute_reply": "2020-10-06T07:15:00.191732Z"
    },
    "papermill": {
     "duration": 0.035633,
     "end_time": "2020-10-06T07:15:00.191866",
     "exception": false,
     "start_time": "2020-10-06T07:15:00.156233",
     "status": "completed"
    },
    "tags": []
   },
   "outputs": [],
   "source": [
    "s_p_e = 200\n",
    "epochs = 25\n",
    "learn_r = 0.001"
   ]
  },
  {
   "cell_type": "code",
   "execution_count": 18,
   "metadata": {
    "execution": {
     "iopub.execute_input": "2020-10-06T07:15:00.252457Z",
     "iopub.status.busy": "2020-10-06T07:15:00.250407Z",
     "iopub.status.idle": "2020-10-06T07:15:00.253283Z",
     "shell.execute_reply": "2020-10-06T07:15:00.253876Z"
    },
    "papermill": {
     "duration": 0.037923,
     "end_time": "2020-10-06T07:15:00.254007",
     "exception": false,
     "start_time": "2020-10-06T07:15:00.216084",
     "status": "completed"
    },
    "tags": []
   },
   "outputs": [],
   "source": [
    "\n",
    "early_stopp = tf.keras.callbacks.EarlyStopping(monitor=\"val_loss\",\n",
    "                                               min_delta=1e-3,patience=10,\n",
    "                                               verbose=1,mode=\"auto\",\n",
    "                                               baseline=None,\n",
    "                                               restore_best_weights=True)\n",
    "\n",
    "reduce_lr = tf.keras.callbacks.ReduceLROnPlateau(monitor='val_loss', \n",
    "                                                 factor=0.2,\n",
    "                                                 patience=5, min_lr=0.0001)\n",
    "\n",
    "opt_1 = SGD(learning_rate=learn_r, momentum=0.9)\n",
    "\n",
    "opt_2 = Adam(learning_rate= learn_r)\n",
    "\n",
    "opt_3 = Nadam(learning_rate= learn_r)\n",
    "\n",
    "opt_4 = Adamax(learning_rate= learn_r, beta_1=0.9, beta_2=0.999, epsilon=1e-07)\n"
   ]
  },
  {
   "cell_type": "code",
   "execution_count": 19,
   "metadata": {
    "execution": {
     "iopub.execute_input": "2020-10-06T07:15:00.318595Z",
     "iopub.status.busy": "2020-10-06T07:15:00.317904Z",
     "iopub.status.idle": "2020-10-06T07:15:00.327155Z",
     "shell.execute_reply": "2020-10-06T07:15:00.326467Z"
    },
    "papermill": {
     "duration": 0.046977,
     "end_time": "2020-10-06T07:15:00.327266",
     "exception": false,
     "start_time": "2020-10-06T07:15:00.280289",
     "status": "completed"
    },
    "tags": []
   },
   "outputs": [],
   "source": [
    "model.compile(optimizer= opt_4, loss= 'mae')"
   ]
  },
  {
   "cell_type": "code",
   "execution_count": 20,
   "metadata": {
    "execution": {
     "iopub.execute_input": "2020-10-06T07:15:00.384902Z",
     "iopub.status.busy": "2020-10-06T07:15:00.384241Z",
     "iopub.status.idle": "2020-10-06T08:03:25.715366Z",
     "shell.execute_reply": "2020-10-06T08:03:25.716666Z"
    },
    "papermill": {
     "duration": 2905.363195,
     "end_time": "2020-10-06T08:03:25.716881",
     "exception": false,
     "start_time": "2020-10-06T07:15:00.353686",
     "status": "completed"
    },
    "tags": []
   },
   "outputs": [
    {
     "name": "stdout",
     "output_type": "stream",
     "text": [
      "Epoch 1/25\n",
      "200/200 [==============================] - 263s 1s/step - loss: 4.9328 - val_loss: 2.6036\n",
      "Epoch 2/25\n",
      "200/200 [==============================] - 261s 1s/step - loss: 4.4779 - val_loss: 2.9915\n",
      "Epoch 3/25\n",
      "200/200 [==============================] - 261s 1s/step - loss: 4.5311 - val_loss: 3.0659\n",
      "Epoch 4/25\n",
      "200/200 [==============================] - 260s 1s/step - loss: 4.5694 - val_loss: 2.9831\n",
      "Epoch 5/25\n",
      "200/200 [==============================] - 260s 1s/step - loss: 4.5304 - val_loss: 2.9492\n",
      "Epoch 6/25\n",
      "200/200 [==============================] - 261s 1s/step - loss: 4.5311 - val_loss: 2.9625\n",
      "Epoch 7/25\n",
      "200/200 [==============================] - 261s 1s/step - loss: 4.5149 - val_loss: 3.0341\n",
      "Epoch 8/25\n",
      "200/200 [==============================] - 261s 1s/step - loss: 4.4973 - val_loss: 2.8531\n",
      "Epoch 9/25\n",
      "200/200 [==============================] - 261s 1s/step - loss: 4.4611 - val_loss: 2.9364\n",
      "Epoch 10/25\n",
      "200/200 [==============================] - 261s 1s/step - loss: 4.4523 - val_loss: 2.9645\n",
      "Epoch 11/25\n",
      "200/200 [==============================] - ETA: 0s - loss: 4.4868Restoring model weights from the end of the best epoch.\n",
      "200/200 [==============================] - 261s 1s/step - loss: 4.4868 - val_loss: 3.1383\n",
      "Epoch 00011: early stopping\n"
     ]
    }
   ],
   "source": [
    "hist = model.fit_generator(train_generator, steps_per_epoch=s_p_e, validation_data= valid_generator,\n",
    "                   validation_steps=20, callbacks= [reduce_lr, early_stopp], epochs= epochs, workers= 4)"
   ]
  },
  {
   "cell_type": "code",
   "execution_count": 21,
   "metadata": {
    "execution": {
     "iopub.execute_input": "2020-10-06T08:03:27.644872Z",
     "iopub.status.busy": "2020-10-06T08:03:27.643117Z",
     "iopub.status.idle": "2020-10-06T08:03:27.645540Z",
     "shell.execute_reply": "2020-10-06T08:03:27.646016Z"
    },
    "papermill": {
     "duration": 0.789154,
     "end_time": "2020-10-06T08:03:27.646132",
     "exception": false,
     "start_time": "2020-10-06T08:03:26.856978",
     "status": "completed"
    },
    "tags": []
   },
   "outputs": [],
   "source": [
    "def score(fvc_true, fvc_pred, sigma):    \n",
    "    sigma_clip = np.maximum(sigma, 70)\n",
    "    delta = np.abs(fvc_true - fvc_pred)\n",
    "    delta = np.minimum(delta, 1000)\n",
    "    sq2 = np.sqrt(2)\n",
    "    metric = (delta / sigma_clip)*sq2 + np.log(sigma_clip* sq2)\n",
    "    return np.mean(metric)"
   ]
  },
  {
   "cell_type": "code",
   "execution_count": 22,
   "metadata": {
    "execution": {
     "iopub.execute_input": "2020-10-06T08:03:29.229514Z",
     "iopub.status.busy": "2020-10-06T08:03:29.228563Z",
     "iopub.status.idle": "2020-10-06T08:09:53.110737Z",
     "shell.execute_reply": "2020-10-06T08:09:53.111255Z"
    },
    "papermill": {
     "duration": 384.685769,
     "end_time": "2020-10-06T08:09:53.111411",
     "exception": false,
     "start_time": "2020-10-06T08:03:28.425642",
     "status": "completed"
    },
    "tags": []
   },
   "outputs": [
    {
     "name": "stdout",
     "output_type": "stream",
     "text": [
      "6.2961972551162075\n",
      "6.296191898626174\n",
      "6.296186365783057\n",
      "6.296177901941386\n",
      "6.2961542626290825\n",
      "6.296147578377809\n",
      "6.296133194205423\n",
      "6.296126768637463\n",
      "6.2961256635277065\n"
     ]
    }
   ],
   "source": [
    "\n",
    "metric = []\n",
    "for q in range(1, 10):\n",
    "    m = []\n",
    "    for p in valid_part:\n",
    "        x = [] \n",
    "        tab = [] \n",
    "        \n",
    "        if p in ['ID00011637202177653955184', 'ID00052637202186188008618']:\n",
    "            continue\n",
    "            \n",
    "        ldir = os.listdir(f'../input/osic-pulmonary-fibrosis-progression/train/{p}/')\n",
    "        for i in ldir:\n",
    "            if int(i[:-4]) / len(ldir) < 0.8 and int(i[:-4]) / len(ldir) > 0.15:\n",
    "                x.append(get_im_from_dicom(f'../input/osic-pulmonary-fibrosis-progression/train/{p}/{i}')) \n",
    "                tab.append(changing_columns(train_df.loc[train_df.Patient == p, :])) \n",
    "        if len(x) < 1:\n",
    "            continue\n",
    "        tab = np.array(tab) \n",
    "    \n",
    "        x = np.expand_dims(x, axis=-1)\n",
    "        _a = model.predict([x, tab])\n",
    "        a = np.quantile(_a, q / 10)\n",
    "        \n",
    "        percent_true = train_df.Percent.values[train_df.Patient == p]\n",
    "        fvc_true = train_df.FVC.values[train_df.Patient == p]\n",
    "        weeks_true = train_df.Weeks.values[train_df.Patient == p]\n",
    "        \n",
    "        fvc = a * (weeks_true - weeks_true[0]) + fvc_true[0]\n",
    "        percent = percent_true[0] - a * abs(weeks_true - weeks_true[0])\n",
    "        m.append(score(fvc_true, fvc, percent))\n",
    "    print(np.mean(m))\n",
    "    metric.append(np.mean(m))"
   ]
  },
  {
   "cell_type": "code",
   "execution_count": 23,
   "metadata": {
    "execution": {
     "iopub.execute_input": "2020-10-06T08:09:54.852682Z",
     "iopub.status.busy": "2020-10-06T08:09:54.851073Z",
     "iopub.status.idle": "2020-10-06T08:09:54.855329Z",
     "shell.execute_reply": "2020-10-06T08:09:54.854763Z"
    },
    "papermill": {
     "duration": 0.898684,
     "end_time": "2020-10-06T08:09:54.855452",
     "exception": false,
     "start_time": "2020-10-06T08:09:53.956768",
     "status": "completed"
    },
    "tags": []
   },
   "outputs": [
    {
     "name": "stdout",
     "output_type": "stream",
     "text": [
      "0.9\n"
     ]
    }
   ],
   "source": [
    "q = (np.argmin(metric) + 1)/ 10\n",
    "print(q)"
   ]
  },
  {
   "cell_type": "code",
   "execution_count": 24,
   "metadata": {
    "execution": {
     "iopub.execute_input": "2020-10-06T08:09:56.396993Z",
     "iopub.status.busy": "2020-10-06T08:09:56.396170Z",
     "iopub.status.idle": "2020-10-06T08:09:56.410407Z",
     "shell.execute_reply": "2020-10-06T08:09:56.409913Z"
    },
    "papermill": {
     "duration": 0.788221,
     "end_time": "2020-10-06T08:09:56.410526",
     "exception": false,
     "start_time": "2020-10-06T08:09:55.622305",
     "status": "completed"
    },
    "tags": []
   },
   "outputs": [
    {
     "data": {
      "text/html": [
       "<div>\n",
       "<style scoped>\n",
       "    .dataframe tbody tr th:only-of-type {\n",
       "        vertical-align: middle;\n",
       "    }\n",
       "\n",
       "    .dataframe tbody tr th {\n",
       "        vertical-align: top;\n",
       "    }\n",
       "\n",
       "    .dataframe thead th {\n",
       "        text-align: right;\n",
       "    }\n",
       "</style>\n",
       "<table border=\"1\" class=\"dataframe\">\n",
       "  <thead>\n",
       "    <tr style=\"text-align: right;\">\n",
       "      <th></th>\n",
       "      <th>Patient_Week</th>\n",
       "      <th>FVC</th>\n",
       "      <th>Confidence</th>\n",
       "    </tr>\n",
       "  </thead>\n",
       "  <tbody>\n",
       "    <tr>\n",
       "      <th>0</th>\n",
       "      <td>ID00419637202311204720264_-12</td>\n",
       "      <td>2000</td>\n",
       "      <td>100</td>\n",
       "    </tr>\n",
       "    <tr>\n",
       "      <th>1</th>\n",
       "      <td>ID00421637202311550012437_-12</td>\n",
       "      <td>2000</td>\n",
       "      <td>100</td>\n",
       "    </tr>\n",
       "    <tr>\n",
       "      <th>2</th>\n",
       "      <td>ID00422637202311677017371_-12</td>\n",
       "      <td>2000</td>\n",
       "      <td>100</td>\n",
       "    </tr>\n",
       "    <tr>\n",
       "      <th>3</th>\n",
       "      <td>ID00423637202312137826377_-12</td>\n",
       "      <td>2000</td>\n",
       "      <td>100</td>\n",
       "    </tr>\n",
       "    <tr>\n",
       "      <th>4</th>\n",
       "      <td>ID00426637202313170790466_-12</td>\n",
       "      <td>2000</td>\n",
       "      <td>100</td>\n",
       "    </tr>\n",
       "  </tbody>\n",
       "</table>\n",
       "</div>"
      ],
      "text/plain": [
       "                    Patient_Week   FVC  Confidence\n",
       "0  ID00419637202311204720264_-12  2000         100\n",
       "1  ID00421637202311550012437_-12  2000         100\n",
       "2  ID00422637202311677017371_-12  2000         100\n",
       "3  ID00423637202312137826377_-12  2000         100\n",
       "4  ID00426637202313170790466_-12  2000         100"
      ]
     },
     "execution_count": 24,
     "metadata": {},
     "output_type": "execute_result"
    }
   ],
   "source": [
    "sub = pd.read_csv('../input/osic-pulmonary-fibrosis-progression/sample_submission.csv') \n",
    "sub.head() "
   ]
  },
  {
   "cell_type": "code",
   "execution_count": 25,
   "metadata": {
    "execution": {
     "iopub.execute_input": "2020-10-06T08:09:57.957515Z",
     "iopub.status.busy": "2020-10-06T08:09:57.956539Z",
     "iopub.status.idle": "2020-10-06T08:09:57.971451Z",
     "shell.execute_reply": "2020-10-06T08:09:57.970979Z"
    },
    "papermill": {
     "duration": 0.78621,
     "end_time": "2020-10-06T08:09:57.971570",
     "exception": false,
     "start_time": "2020-10-06T08:09:57.185360",
     "status": "completed"
    },
    "tags": []
   },
   "outputs": [
    {
     "data": {
      "text/html": [
       "<div>\n",
       "<style scoped>\n",
       "    .dataframe tbody tr th:only-of-type {\n",
       "        vertical-align: middle;\n",
       "    }\n",
       "\n",
       "    .dataframe tbody tr th {\n",
       "        vertical-align: top;\n",
       "    }\n",
       "\n",
       "    .dataframe thead th {\n",
       "        text-align: right;\n",
       "    }\n",
       "</style>\n",
       "<table border=\"1\" class=\"dataframe\">\n",
       "  <thead>\n",
       "    <tr style=\"text-align: right;\">\n",
       "      <th></th>\n",
       "      <th>Patient</th>\n",
       "      <th>Weeks</th>\n",
       "      <th>FVC</th>\n",
       "      <th>Percent</th>\n",
       "      <th>Age</th>\n",
       "      <th>Sex</th>\n",
       "      <th>SmokingStatus</th>\n",
       "    </tr>\n",
       "  </thead>\n",
       "  <tbody>\n",
       "    <tr>\n",
       "      <th>0</th>\n",
       "      <td>ID00419637202311204720264</td>\n",
       "      <td>6</td>\n",
       "      <td>3020</td>\n",
       "      <td>70.186855</td>\n",
       "      <td>73</td>\n",
       "      <td>Male</td>\n",
       "      <td>Ex-smoker</td>\n",
       "    </tr>\n",
       "    <tr>\n",
       "      <th>1</th>\n",
       "      <td>ID00421637202311550012437</td>\n",
       "      <td>15</td>\n",
       "      <td>2739</td>\n",
       "      <td>82.045291</td>\n",
       "      <td>68</td>\n",
       "      <td>Male</td>\n",
       "      <td>Ex-smoker</td>\n",
       "    </tr>\n",
       "    <tr>\n",
       "      <th>2</th>\n",
       "      <td>ID00422637202311677017371</td>\n",
       "      <td>6</td>\n",
       "      <td>1930</td>\n",
       "      <td>76.672493</td>\n",
       "      <td>73</td>\n",
       "      <td>Male</td>\n",
       "      <td>Ex-smoker</td>\n",
       "    </tr>\n",
       "    <tr>\n",
       "      <th>3</th>\n",
       "      <td>ID00423637202312137826377</td>\n",
       "      <td>17</td>\n",
       "      <td>3294</td>\n",
       "      <td>79.258903</td>\n",
       "      <td>72</td>\n",
       "      <td>Male</td>\n",
       "      <td>Ex-smoker</td>\n",
       "    </tr>\n",
       "    <tr>\n",
       "      <th>4</th>\n",
       "      <td>ID00426637202313170790466</td>\n",
       "      <td>0</td>\n",
       "      <td>2925</td>\n",
       "      <td>71.824968</td>\n",
       "      <td>73</td>\n",
       "      <td>Male</td>\n",
       "      <td>Never smoked</td>\n",
       "    </tr>\n",
       "  </tbody>\n",
       "</table>\n",
       "</div>"
      ],
      "text/plain": [
       "                     Patient  Weeks   FVC    Percent  Age   Sex SmokingStatus\n",
       "0  ID00419637202311204720264      6  3020  70.186855   73  Male     Ex-smoker\n",
       "1  ID00421637202311550012437     15  2739  82.045291   68  Male     Ex-smoker\n",
       "2  ID00422637202311677017371      6  1930  76.672493   73  Male     Ex-smoker\n",
       "3  ID00423637202312137826377     17  3294  79.258903   72  Male     Ex-smoker\n",
       "4  ID00426637202313170790466      0  2925  71.824968   73  Male  Never smoked"
      ]
     },
     "execution_count": 25,
     "metadata": {},
     "output_type": "execute_result"
    }
   ],
   "source": [
    "test = pd.read_csv('../input/osic-pulmonary-fibrosis-progression/test.csv') \n",
    "test.head()"
   ]
  },
  {
   "cell_type": "code",
   "execution_count": 26,
   "metadata": {
    "execution": {
     "iopub.execute_input": "2020-10-06T08:09:59.561592Z",
     "iopub.status.busy": "2020-10-06T08:09:59.560836Z",
     "iopub.status.idle": "2020-10-06T08:10:19.253686Z",
     "shell.execute_reply": "2020-10-06T08:10:19.252963Z"
    },
    "papermill": {
     "duration": 20.51551,
     "end_time": "2020-10-06T08:10:19.253799",
     "exception": false,
     "start_time": "2020-10-06T08:09:58.738289",
     "status": "completed"
    },
    "tags": []
   },
   "outputs": [],
   "source": [
    "A_test, B_test, P_test,W, FVC= {}, {}, {},{},{} \n",
    "STD, WEEK = {}, {} \n",
    "for p in test.Patient.unique():\n",
    "    x = [] \n",
    "    tab = [] \n",
    "    ldir = os.listdir(f'../input/osic-pulmonary-fibrosis-progression/test/{p}/')\n",
    "    for i in ldir:\n",
    "        if int(i[:-4]) / len(ldir) < 0.8 and int(i[:-4]) / len(ldir) > 0.15:\n",
    "            x.append(get_im_from_dicom(f'../input/osic-pulmonary-fibrosis-progression/test/{p}/{i}')) \n",
    "            tab.append(changing_columns(test.loc[test.Patient == p, :])) \n",
    "    if len(x) <= 1:\n",
    "        continue\n",
    "    tab = np.array(tab) \n",
    "            \n",
    "    x = np.expand_dims(x, axis=-1) \n",
    "    _a = model.predict([x, tab]) \n",
    "    a = np.quantile(_a, q)\n",
    "    A_test[p] = a\n",
    "    B_test[p] = test.FVC.values[test.Patient == p] - a*test.Weeks.values[test.Patient == p]\n",
    "    P_test[p] = test.Percent.values[test.Patient == p] \n",
    "    WEEK[p] = test.Weeks.values[test.Patient == p]\n"
   ]
  },
  {
   "cell_type": "code",
   "execution_count": 27,
   "metadata": {
    "execution": {
     "iopub.execute_input": "2020-10-06T08:10:21.186121Z",
     "iopub.status.busy": "2020-10-06T08:10:20.939347Z",
     "iopub.status.idle": "2020-10-06T08:10:21.834259Z",
     "shell.execute_reply": "2020-10-06T08:10:21.833324Z"
    },
    "papermill": {
     "duration": 1.803212,
     "end_time": "2020-10-06T08:10:21.834394",
     "exception": false,
     "start_time": "2020-10-06T08:10:20.031182",
     "status": "completed"
    },
    "tags": []
   },
   "outputs": [],
   "source": [
    "for k in sub.Patient_Week.values:\n",
    "    p, w = k.split('_')\n",
    "    w = int(w) \n",
    "    \n",
    "    fvc = A_test[p] * w + B_test[p]\n",
    "    sub.loc[sub.Patient_Week == k, 'FVC'] = fvc\n",
    "    sub.loc[sub.Patient_Week == k, 'Confidence'] = (\n",
    "        P_test[p] - A_test[p] * abs(WEEK[p] - w)\n",
    ")\n",
    "    "
   ]
  },
  {
   "cell_type": "code",
   "execution_count": 28,
   "metadata": {
    "execution": {
     "iopub.execute_input": "2020-10-06T08:10:23.381666Z",
     "iopub.status.busy": "2020-10-06T08:10:23.380933Z",
     "iopub.status.idle": "2020-10-06T08:10:24.041075Z",
     "shell.execute_reply": "2020-10-06T08:10:24.039897Z"
    },
    "papermill": {
     "duration": 1.4363,
     "end_time": "2020-10-06T08:10:24.041230",
     "exception": false,
     "start_time": "2020-10-06T08:10:22.604930",
     "status": "completed"
    },
    "tags": []
   },
   "outputs": [],
   "source": [
    "sub[[\"Patient_Week\",\"FVC\",\"Confidence\"]].to_csv(\"submission.csv\", index=False)"
   ]
  },
  {
   "cell_type": "code",
   "execution_count": null,
   "metadata": {
    "papermill": {
     "duration": 0.903348,
     "end_time": "2020-10-06T08:10:25.712741",
     "exception": false,
     "start_time": "2020-10-06T08:10:24.809393",
     "status": "completed"
    },
    "tags": []
   },
   "outputs": [],
   "source": []
  }
 ],
 "metadata": {
  "kernelspec": {
   "display_name": "Python 3",
   "language": "python",
   "name": "python3"
  },
  "language_info": {
   "codemirror_mode": {
    "name": "ipython",
    "version": 3
   },
   "file_extension": ".py",
   "mimetype": "text/x-python",
   "name": "python",
   "nbconvert_exporter": "python",
   "pygments_lexer": "ipython3",
   "version": "3.7.6"
  },
  "papermill": {
   "duration": 3344.639188,
   "end_time": "2020-10-06T08:10:28.799923",
   "environment_variables": {},
   "exception": null,
   "input_path": "__notebook__.ipynb",
   "output_path": "__notebook__.ipynb",
   "parameters": {},
   "start_time": "2020-10-06T07:14:44.160735",
   "version": "2.1.0"
  }
 },
 "nbformat": 4,
 "nbformat_minor": 4
}
